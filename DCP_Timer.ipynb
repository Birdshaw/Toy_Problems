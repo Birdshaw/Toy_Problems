{
 "cells": [
  {
   "cell_type": "markdown",
   "metadata": {},
   "source": [
    "### DCP: Timer\n",
    "\n",
    "This problem was asked by Apple.\n",
    "\n",
    "Implement a job scheduler which takes in a function f and an integer n, and calls f after n milliseconds.\n",
    "\n",
    "We will be sending the solution tomorrow, along with tomorrow's question. As always, feel free to shoot us an email if there's anything we can help with.\n",
    "\n",
    "Have a great day!"
   ]
  },
  {
   "cell_type": "code",
   "execution_count": 9,
   "metadata": {},
   "outputs": [],
   "source": [
    "# Threading is the class that encompasses Timer. Which in using this will trivialize this question I feel. But\n",
    "# programmers are programming on top the shoulders of giants i.e. those who made these before us. So if the \n",
    "# implementation exists, why not use it. \n",
    "import threading\n",
    "\n",
    "def some_func():\n",
    "    \n",
    "    return print(\"Does this work? \\nYes, it does!\")\n",
    "    \n",
    "\n",
    "def scheduler(f, n: int):\n",
    "    \n",
    "    timer = threading.Timer(n, f)\n",
    "    timer.start()\n",
    "    "
   ]
  },
  {
   "cell_type": "code",
   "execution_count": 10,
   "metadata": {},
   "outputs": [
    {
     "name": "stdout",
     "output_type": "stream",
     "text": [
      "Does this work? \n",
      "Yes, it does!\n"
     ]
    }
   ],
   "source": [
    "scheduler(some_func, 2)"
   ]
  },
  {
   "cell_type": "markdown",
   "metadata": {},
   "source": [
    "Very simple question after researching what timer classes Python has implemented. Not really sure what function that is desired but regardless it is very worthwhile to know that this module exists and now how to use it. "
   ]
  }
 ],
 "metadata": {
  "kernelspec": {
   "display_name": "Python 3",
   "language": "python",
   "name": "python3"
  },
  "language_info": {
   "codemirror_mode": {
    "name": "ipython",
    "version": 3
   },
   "file_extension": ".py",
   "mimetype": "text/x-python",
   "name": "python",
   "nbconvert_exporter": "python",
   "pygments_lexer": "ipython3",
   "version": "3.7.4"
  }
 },
 "nbformat": 4,
 "nbformat_minor": 2
}
