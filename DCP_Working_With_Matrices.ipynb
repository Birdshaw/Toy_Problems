{
 "cells": [
  {
   "cell_type": "markdown",
   "metadata": {},
   "source": [
    "## Daily Coding Problem\n",
    "\n",
    "This problem was asked by Facebook.\n",
    "\n",
    "A builder is looking to build a row of N houses that can be of K different colors. He has a goal of minimizing cost while ensuring that no two neighboring houses are of the same color.\n",
    "\n",
    "Given an N by K matrix where the nth row and kth column represents the cost to build the nth house with kth color, return the minimum cost which achieves this goal."
   ]
  },
  {
   "cell_type": "code",
   "execution_count": 37,
   "metadata": {},
   "outputs": [],
   "source": [
    "def building(houses):\n",
    "    \n",
    "    n = len(houses)\n",
    "    k = len(houses[0])\n",
    "\n",
    "    tot_cost = [[0] * k]\n",
    "    \n",
    "    for row, r_cont in enumerate(houses):\n",
    "        row_cost = []\n",
    "        for ind, val in enumerate(r_cont):\n",
    "            row_cost.append(min(tot_cost[row][i] for i in range(k) if i != ind) + val)\n",
    "        tot_cost.append(row_cost)\n",
    "    \n",
    "    return min(tot_cost[-1])\n",
    "\n",
    "    \n",
    "    "
   ]
  },
  {
   "cell_type": "code",
   "execution_count": 38,
   "metadata": {},
   "outputs": [
    {
     "data": {
      "text/plain": [
       "5"
      ]
     },
     "execution_count": 38,
     "metadata": {},
     "output_type": "execute_result"
    }
   ],
   "source": [
    "houses = [[1, 3, 5, 6], [2, 4, 6, 8]]\n",
    "\n",
    "building(houses)"
   ]
  },
  {
   "cell_type": "markdown",
   "metadata": {},
   "source": [
    "The above function will do nicely to get us the minimum cost of building the two houses with 4 different color options. However, this (at least to me isn't all that readable) and more importantly on a business perspective it runs at O(N * K^K). A better solution would be this:"
   ]
  },
  {
   "cell_type": "code",
   "execution_count": 39,
   "metadata": {},
   "outputs": [],
   "source": [
    "def building(houses):\n",
    "    \n",
    "    k = len(houses[0])\n",
    "    tot_cost = [0] * k\n",
    "    print(tot_cost)\n",
    "    \n",
    "    for row, r_cont in enumerate(houses):\n",
    "        new_row = []\n",
    "        for ind, val in enumerate(r_cont):\n",
    "            new_row.append(min(tot_cost[i] for i in range(k) if i != ind) + val)\n",
    "            print(\"row\", row, \"ind\", ind, \"val\", val)\n",
    "            print(new_row)\n",
    "        tot_cost = new_row\n",
    "        print(tot_cost)\n",
    "        \n",
    "    "
   ]
  },
  {
   "cell_type": "code",
   "execution_count": 40,
   "metadata": {},
   "outputs": [
    {
     "name": "stdout",
     "output_type": "stream",
     "text": [
      "[0, 0, 0, 0]\n",
      "row 0 ind 0 val 1\n",
      "[1]\n",
      "row 0 ind 1 val 3\n",
      "[1, 3]\n",
      "row 0 ind 2 val 5\n",
      "[1, 3, 5]\n",
      "row 0 ind 3 val 6\n",
      "[1, 3, 5, 6]\n",
      "[1, 3, 5, 6]\n",
      "row 1 ind 0 val 2\n",
      "[5]\n",
      "row 1 ind 1 val 4\n",
      "[5, 5]\n",
      "row 1 ind 2 val 6\n",
      "[5, 5, 7]\n",
      "row 1 ind 3 val 8\n",
      "[5, 5, 7, 9]\n",
      "[5, 5, 7, 9]\n"
     ]
    }
   ],
   "source": [
    "houses = [[1, 3, 5, 6], [2, 4, 6, 8]]\n",
    "\n",
    "building(houses)"
   ]
  },
  {
   "cell_type": "markdown",
   "metadata": {},
   "source": [
    "By writing the function this way, we improve our space by eliminate the need to store another matrix of i, j size and instead continually update what the minimum possible values are for the indices in question that meet our criteria. \n",
    "\n",
    "Additionally, here is one other way to answer this question that is my favorite in terms of readability!"
   ]
  },
  {
   "cell_type": "code",
   "execution_count": null,
   "metadata": {},
   "outputs": [],
   "source": [
    "def min_cost_past(tot_cost_p, j):\n",
    "    del tot_cost_p[j]\n",
    "    return min(tot_cost_p)\n",
    "\n",
    "def min_tot_cost(houses)"
   ]
  },
  {
   "cell_type": "code",
   "execution_count": 48,
   "metadata": {},
   "outputs": [],
   "source": [
    "import numpy as np\n",
    "\n",
    "houses = [[1, 3, 5, 6], [2, 4, 6, 8]]\n",
    "\n",
    "zero = np.zeros((len(houses[0]), len(houses[1])))"
   ]
  },
  {
   "cell_type": "code",
   "execution_count": 49,
   "metadata": {},
   "outputs": [
    {
     "data": {
      "text/plain": [
       "array([[0., 0., 0., 0.],\n",
       "       [0., 0., 0., 0.],\n",
       "       [0., 0., 0., 0.],\n",
       "       [0., 0., 0., 0.]])"
      ]
     },
     "execution_count": 49,
     "metadata": {},
     "output_type": "execute_result"
    }
   ],
   "source": [
    "zero"
   ]
  },
  {
   "cell_type": "code",
   "execution_count": null,
   "metadata": {},
   "outputs": [],
   "source": []
  }
 ],
 "metadata": {
  "kernelspec": {
   "display_name": "Python 3",
   "language": "python",
   "name": "python3"
  },
  "language_info": {
   "codemirror_mode": {
    "name": "ipython",
    "version": 3
   },
   "file_extension": ".py",
   "mimetype": "text/x-python",
   "name": "python",
   "nbconvert_exporter": "python",
   "pygments_lexer": "ipython3",
   "version": "3.7.4"
  }
 },
 "nbformat": 4,
 "nbformat_minor": 2
}
