{
 "cells": [
  {
   "cell_type": "markdown",
   "metadata": {},
   "source": [
    "This problem was asked by Airbnb.\n",
    "\n",
    "Given a list of integers, write a function that returns the largest sum of non-adjacent numbers. Numbers can be 0 or negative.\n",
    "\n",
    "For example, [2, 4, 6, 2, 5] should return 13, since we pick 2, 6, and 5. [5, 1, 1, 5] should return 10, since we pick 5 and 5.\n",
    "\n",
    "Follow-up: Can you do this in O(N) time and constant space?"
   ]
  },
  {
   "cell_type": "code",
   "execution_count": 9,
   "metadata": {},
   "outputs": [],
   "source": [
    "def non_adj_max(numbers): \n",
    "    \n",
    "    # Instantiate two variables at 0. This will automatically make it so that the first 2 adjancent numbers\n",
    "    # Aren't counted\n",
    "    incl = 0\n",
    "    excl = 0\n",
    "     \n",
    "    for i in numbers: \n",
    "          \n",
    "        # Used to make sure you get the max between past and new values    \n",
    "        new_excl = max(incl, excl)  \n",
    "         \n",
    "        # adding the current value to excl as it is always the non adjacent value, set new exclude value\n",
    "        # to continue process\n",
    "        incl = excl + i \n",
    "        excl = new_excl \n",
    "      \n",
    "    # return max of incl and excl \n",
    "    return max(incl, excl)"
   ]
  },
  {
   "cell_type": "code",
   "execution_count": 12,
   "metadata": {},
   "outputs": [
    {
     "data": {
      "text/plain": [
       "49"
      ]
     },
     "execution_count": 12,
     "metadata": {},
     "output_type": "execute_result"
    }
   ],
   "source": [
    "non_adj_max([10, 10, 20, 2, 5, 19])"
   ]
  },
  {
   "cell_type": "markdown",
   "metadata": {},
   "source": [
    "The crux of this problem is to have the two variables that store a growing sum and another that is lagging. \n",
    "The lagging variable is there to make sure that no adjacent values are summed and that the largest sum is saved. Doing so guarantees that the max value of non adjacent sums is found "
   ]
  },
  {
   "cell_type": "code",
   "execution_count": null,
   "metadata": {},
   "outputs": [],
   "source": []
  }
 ],
 "metadata": {
  "kernelspec": {
   "display_name": "Python 3",
   "language": "python",
   "name": "python3"
  },
  "language_info": {
   "codemirror_mode": {
    "name": "ipython",
    "version": 3
   },
   "file_extension": ".py",
   "mimetype": "text/x-python",
   "name": "python",
   "nbconvert_exporter": "python",
   "pygments_lexer": "ipython3",
   "version": "3.7.4"
  }
 },
 "nbformat": 4,
 "nbformat_minor": 2
}
