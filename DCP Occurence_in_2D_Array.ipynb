{
 "cells": [
  {
   "cell_type": "markdown",
   "metadata": {},
   "source": [
    "This is your coding interview problem for today.\n",
    "\n",
    "This problem was asked by Apple.\n",
    "\n",
    "Suppose you have a multiplication table that is N by N. That is, a 2D array where the value at the i-th row and j-th column is (i + 1) * (j + 1) (if 0-indexed) or i * j (if 1-indexed).\n",
    "\n",
    "Given integers N and X, write a function that returns the number of times X appears as a value in an N by N multiplication table.\n",
    "\n",
    "For example, given N = 6 and X = 12, you should return 4, since the multiplication table looks like this:\n",
    "\n",
    "| 1 | 2 | 3 | 4 | 5 | 6 |\n",
    "\n",
    "| 2 | 4 | 6 | 8 | 10 | 12 |\n",
    "\n",
    "| 3 | 6 | 9 | 12 | 15 | 18 |\n",
    "\n",
    "| 4 | 8 | 12 | 16 | 20 | 24 |\n",
    "\n",
    "| 5 | 10 | 15 | 20 | 25 | 30 |\n",
    "\n",
    "| 6 | 12 | 18 | 24 | 30 | 36 |\n",
    "\n",
    "And there are 4 12's in the table."
   ]
  },
  {
   "cell_type": "code",
   "execution_count": 4,
   "metadata": {},
   "outputs": [
    {
     "data": {
      "text/plain": [
       "3"
      ]
     },
     "execution_count": 4,
     "metadata": {},
     "output_type": "execute_result"
    }
   ],
   "source": [
    "import numpy as np\n",
    "\n",
    "a = np.array([[1, 2, 3, 4], [2, 4, 6, 8], [3, 6, 9, 12], [4, 8, 12, 16]])\n",
    "\n",
    "(a == 4).sum()"
   ]
  },
  {
   "cell_type": "code",
   "execution_count": null,
   "metadata": {},
   "outputs": [],
   "source": [
    "def find_value(arr, value)"
   ]
  },
  {
   "cell_type": "markdown",
   "metadata": {},
   "source": [
    "Well there's no point in reinventing the wheel when it works so well. "
   ]
  }
 ],
 "metadata": {
  "kernelspec": {
   "display_name": "Python 3",
   "language": "python",
   "name": "python3"
  },
  "language_info": {
   "codemirror_mode": {
    "name": "ipython",
    "version": 3
   },
   "file_extension": ".py",
   "mimetype": "text/x-python",
   "name": "python",
   "nbconvert_exporter": "python",
   "pygments_lexer": "ipython3",
   "version": "3.7.4"
  }
 },
 "nbformat": 4,
 "nbformat_minor": 2
}
